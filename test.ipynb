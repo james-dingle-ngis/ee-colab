{
  "nbformat": 4,
  "nbformat_minor": 0,
  "metadata": {
    "colab": {
      "name": "Blank.ipynb",
      "provenance": []
    },
    "kernelspec": {
      "name": "swift",
      "display_name": "Swift"
    }
  },
  "cells": [
    {
      "cell_type": "markdown",
      "metadata": {
        "id": "r67aNfYc255C"
      },
      "source": [
        "# Blank\n",
        "\n",
        "[![GitHubBadge]][GitHubLink] [![ColabBadge]][ColabLink]\n",
        "\n",
        "Blank notebook with setup code to display [Plotly.swift](https://github.com/vojtamolda/Plotly.swift) charts.\n",
        "\n",
        "\n",
        "[ColabBadge]: https://colab.research.google.com/assets/colab-badge.svg \"Run notebook in Google Colab\"\n",
        "[ColabLink]: https://colab.research.google.com/github/vojtamolda/Plotly.swift/blob/main/Examples/Notebooks/Blank.ipynb\n",
        "\n",
        "[GitHubBadge]: https://img.shields.io/badge/|-Edit_on_GitHub-green.svg?logo=github \"Edit notebook's source code on GitHub\"\n",
        "[GitHubLink]: https://github.com/vojtamolda/Plotly.swift/blob/main/Examples/Notebooks/Blank.ipynb"
      ]
    },
    {
      "cell_type": "code",
      "metadata": {
        "id": "kZRlD4utdPuX",
        "colab": {
          "base_uri": "https://localhost:8080/",
          "height": 35
        },
        "outputId": "bbec0bfe-662e-4f60-d6ff-9f4fa03d1ef5"
      },
      "source": [
        "%install '.package(url: \"https://github.com/vojtamolda/Plotly.swift.git\", .branch(\"main\"))' Plotly\n",
        "print(\"\\u{001B}[2J\") // Clear Output\n",
        "\n",
        "%include \"EnableIPythonDisplay.swift\""
      ],
      "execution_count": null,
      "outputs": [
        {
          "output_type": "stream",
          "text": [
            "\r\n"
          ],
          "name": "stdout"
        }
      ]
    },
    {
      "cell_type": "code",
      "metadata": {
        "id": "OmiNmB4e2z4h"
      },
      "source": [
        "import Plotly\n",
        "\n"
      ],
      "execution_count": null,
      "outputs": []
    }
  ]
}
